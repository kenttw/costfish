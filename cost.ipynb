{
 "cells": [
  {
   "cell_type": "code",
   "execution_count": 85,
   "metadata": {
    "collapsed": false
   },
   "outputs": [
    {
     "name": "stdout",
     "output_type": "stream",
     "text": [
      "羊 0.0909090909091\n",
      "豬 0.666666666667\n"
     ]
    }
   ],
   "source": [
    "import matplotlib\n",
    "import numpy as np\n",
    "import matplotlib.pyplot as plt\n",
    "%matplotlib inline  \n",
    " \n",
    "\n",
    "import json\n",
    "import gspread\n",
    "from oauth2client.client import SignedJwtAssertionCredentials\n",
    "\n",
    "json_key = json.load(open('./costfish-3a4d1968df8f.json'))\n",
    "scope = ['https://spreadsheets.google.com/feeds']\n",
    "\n",
    "credentials = SignedJwtAssertionCredentials(json_key['client_email'], json_key['private_key'], scope)\n",
    "\n",
    "gc = gspread.authorize(credentials)\n",
    "\n",
    "wks = gc.open('costfish')\n",
    "sheet = wks.sheet1\n",
    "list_of_lists = sheet.get_all_values()\n",
    "\n",
    "import pandas as pd\n",
    "\n",
    "columns_name=['Date','牛','羊','豬','雞','魚','貝','蟹','軟絲','高麗菜','空心菜','絲瓜','南瓜','西瓜','柳丁','鳯梨','百合','蓮子','紅棗']\n",
    "df = pd.DataFrame(list_of_lists[1:],columns=columns_name,dtype=float)\n",
    "nparray = df.as_matrix()\n",
    "rows , columns = nparray.shape\n",
    "\n",
    "lastPriceList = nparray[rows-1][1:]\n",
    "last2ThPriceList =nparray[rows-2][1:]\n",
    "\n",
    "priceChangeList = lastPriceList - last2ThPriceList\n",
    "priceChPercent = priceChangeList / last2ThPriceList\n",
    "\n",
    "\n",
    "kpiindex=[]\n",
    "for index , change in enumerate(priceChPercent) :\n",
    "    if change > 0.05 : \n",
    "        print columns_name[index + 1] , change\n",
    "\n",
    "\n",
    "\n"
   ]
  },
  {
   "cell_type": "code",
   "execution_count": 84,
   "metadata": {
    "collapsed": false
   },
   "outputs": [
    {
     "data": {
      "text/plain": [
       "<matplotlib.axes.AxesSubplot at 0x1111123d0>"
      ]
     },
     "execution_count": 84,
     "metadata": {},
     "output_type": "execute_result"
    },
    {
     "data": {
      "image/png": "[encoded data removed]",
      "text/plain": [
       "<matplotlib.figure.Figure at 0x1111af750>"
      ]
     },
     "metadata": {},
     "output_type": "display_data"
    }
   ],
   "source": [
    "df.p lot(kind='line', x='Date')"
   ]
  },
  {
   "cell_type": "code",
   "execution_count": null,
   "metadata": {
    "collapsed": true
   },
   "outputs": [],
   "source": []
  }
 ],
 "metadata": {
  "kernelspec": {
   "display_name": "Python 2",
   "language": "python",
   "name": "python2"
  },
  "language_info": {
   "codemirror_mode": {
    "name": "ipython",
    "version": 2
   },
   "file_extension": ".py",
   "mimetype": "text/x-python",
   "name": "python",
   "nbconvert_exporter": "python",
   "pygments_lexer": "ipython2",
   "version": "2.7.6"
  }
 },
 "nbformat": 4,
 "nbformat_minor": 0
}
